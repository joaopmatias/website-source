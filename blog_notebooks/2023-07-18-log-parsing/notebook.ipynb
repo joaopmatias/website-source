{
 "cells": [
  {
   "cell_type": "markdown",
   "id": "30068977-1044-4942-9961-b73d6490b756",
   "metadata": {},
   "source": [
    "# logs\n",
    "\n",
    "data\n",
    "\n",
    "https://www.usenix.org/cfdr-data\n",
    "\n",
    "https://www.usenix.org/sites/default/files/4366-0809181018.tar.gz\n"
   ]
  },
  {
   "cell_type": "code",
   "execution_count": null,
   "id": "dc3857f6-ce86-4607-8caf-be2d9ba88552",
   "metadata": {
    "tags": []
   },
   "outputs": [],
   "source": [
    "\n",
    "import sys\n",
    "import tarfile\n",
    "from pathlib import Path\n",
    "from calendar import month_abbr\n",
    "\n",
    "import pandas as pd\n",
    "import plotly.express as px\n",
    "import requests\n",
    "\n",
    "sys.path.append(\"logparser\")\n",
    "\n",
    "from logparser.Spell import Spell\n"
   ]
  },
  {
   "cell_type": "code",
   "execution_count": null,
   "id": "7eb7e15e-3192-475b-9319-aa2216722277",
   "metadata": {
    "tags": []
   },
   "outputs": [],
   "source": [
    "\n",
    "url = \"https://www.usenix.org/sites/default/files/4366-0809181018.tar.gz\"\n",
    "\n",
    "with requests.get(url, stream=True) as r:\n",
    "    with open(\"4366-0809181018.tar.gz\", 'wb') as f:\n",
    "        for chunk in r.iter_content(chunk_size=8192):\n",
    "            f.write(chunk)\n"
   ]
  },
  {
   "cell_type": "code",
   "execution_count": null,
   "id": "1f94f448-a38e-4552-9a97-62c3c09ad539",
   "metadata": {
    "tags": []
   },
   "outputs": [],
   "source": [
    "\n",
    "with tarfile.open(\"4366-0809181018.tar.gz\", \"r\") as f:\n",
    "    f.extractall()\n"
   ]
  },
  {
   "cell_type": "code",
   "execution_count": null,
   "id": "28cd64b3-8455-4ae6-b5b6-a1678981381c",
   "metadata": {
    "tags": []
   },
   "outputs": [],
   "source": [
    "\n",
    "parser = Spell.LogParser(log_format=\"\\[<Timestamp>\\]:<Content>\", indir=\"0809181018\", outdir=\".\", tau=0.5)\n",
    "parser.parse(\"bnd.log\")\n",
    "\n",
    "\n",
    "df = pd.read_csv(next(Path().glob(\"*_structured.csv\")))\n",
    "\n",
    "(\n",
    "    px.histogram(\n",
    "        df\n",
    "        .assign(\n",
    "            Timestamp=lambda x0:\n",
    "            x0[\"Timestamp\"]\n",
    "            .str.extract(r\"\\S+\\s+(?P<m>\\S+)\\s+(?P<d>\\S+)\\s+(?P<t>\\S+)\\s+(?P<y>\\S+)\")\n",
    "            .replace(dict(zip(month_abbr, range(13))))\n",
    "            .assign(m=lambda x: x[\"m\"].astype(str).str.rjust(2, \"0\"))\n",
    "            .assign(d=lambda x: x[\"d\"].astype(str).str.rjust(2, \"0\"))\n",
    "            .pipe(lambda x: pd.to_datetime(x[\"y\"] + \"-\" + x[\"m\"] + \"-\" + x[\"d\"] + \" \" + x[\"t\"])))\n",
    "        [[\"Timestamp\", \"EventTemplate\"]],\n",
    "        x=\"Timestamp\",\n",
    "        color=\"EventTemplate\",\n",
    "        nbins=288)\n",
    "    .update_layout(height=500, legend=dict(y=-0.5, orientation=\"h\"), title=\"logs\")\n",
    "    .show()\n",
    ")\n"
   ]
  },
  {
   "cell_type": "code",
   "execution_count": null,
   "id": "9223c555-3d99-4c6d-bf6a-3ef4a73654ff",
   "metadata": {},
   "outputs": [],
   "source": []
  }
 ],
 "metadata": {
  "kernelspec": {
   "display_name": "Python 3 (ipykernel)",
   "language": "python",
   "name": "python3"
  },
  "language_info": {
   "codemirror_mode": {
    "name": "ipython",
    "version": 3
   },
   "file_extension": ".py",
   "mimetype": "text/x-python",
   "name": "python",
   "nbconvert_exporter": "python",
   "pygments_lexer": "ipython3",
   "version": "3.11.3"
  }
 },
 "nbformat": 4,
 "nbformat_minor": 5
}
